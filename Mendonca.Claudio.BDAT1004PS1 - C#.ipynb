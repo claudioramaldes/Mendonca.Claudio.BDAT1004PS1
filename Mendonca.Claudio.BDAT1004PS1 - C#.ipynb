{
 "cells": [
  {
   "cell_type": "markdown",
   "metadata": {},
   "source": [
    "# Question 1"
   ]
  },
  {
   "cell_type": "markdown",
   "metadata": {},
   "source": [
    "What data type is each of the following?\n",
    "\n",
    "1) 5 = Integer\n",
    "\n",
    "2) 5.0 = Double\n",
    "\n",
    "3) 5 > 1 = Boolean\n",
    "\n",
    "4) '5' = String\n",
    "\n",
    "5) 5 * 2 = Integer\n",
    "\n",
    "6) '5' * 2 = String\n",
    "\n",
    "7) '5' + '2' = String\n",
    "\n",
    "8) 5 / 2 = Float\n",
    "\n",
    "9) 5 // 2 = Error\n",
    "\n",
    "10) [5, 2, 1] = List\n",
    "\n",
    "11) 5 in [1, 4, 6] = Boolean\n",
    "\n",
    "12) Pi (the number) = Double"
   ]
  },
  {
   "cell_type": "markdown",
   "metadata": {},
   "source": [
    "# 2) Write (and evaluate) C# expressions that answer these questions:"
   ]
  },
  {
   "cell_type": "markdown",
   "metadata": {},
   "source": [
    "Question 2.1) How many letters are there in 'Supercalifragilisticexpialidocious'?\n",
    "\n",
    "Answer: 34 letters"
   ]
  },
  {
   "cell_type": "code",
   "execution_count": 2,
   "metadata": {},
   "outputs": [
    {
     "name": "stdout",
     "output_type": "stream",
     "text": [
      "34"
     ]
    }
   ],
   "source": [
    "string word = \"Supercalifragilisticexpialidocious\";\n",
    "Console.Write(word.Length);"
   ]
  },
  {
   "cell_type": "markdown",
   "metadata": {},
   "source": [
    "Question 2.2) Does 'Supercalifragilisticexpialidocious' contain 'ice' as a substring?\n",
    "\n",
    "Answer: yes"
   ]
  },
  {
   "cell_type": "code",
   "execution_count": 4,
   "metadata": {},
   "outputs": [
    {
     "name": "stdout",
     "output_type": "stream",
     "text": [
      "Yes!\r\n"
     ]
    }
   ],
   "source": [
    "string word = \"Supercalifragilisticexpialidocious\";\n",
    "if (word.Contains(\"ice\") == true)\n",
    "Console.WriteLine(\"Yes!\");"
   ]
  },
  {
   "cell_type": "markdown",
   "metadata": {},
   "source": [
    "Question 2.3) Which of the following words is the longest: Supercalifragilisticexpialidocious, Honorificabilitudinitatibus, or\n",
    "Bababadalgharaghtakamminarronnkonn?\n",
    "\n",
    "**Answer** According to the result of the output, both Supercalifragilisticexpialidocious and Bababadalgharaghtakamminarronnkonn has the same amount of letters, so they are both the longest."
   ]
  },
  {
   "cell_type": "code",
   "execution_count": 63,
   "metadata": {
    "scrolled": true
   },
   "outputs": [
    {
     "name": "stdout",
     "output_type": "stream",
     "text": [
      "Supercalifragilisticexpialidocious has 34\n",
      "\n",
      "Honorificabilitudinitatibus has 27\n",
      "\n",
      "Honorificabilitudinitatibus has 34\n",
      "\n"
     ]
    }
   ],
   "source": [
    "int length1, length2, length3;\n",
    "\n",
    "string word = \"Supercalifragilisticexpialidocious\";\n",
    "length1 = word.Length;\n",
    "Console.WriteLine(\"Supercalifragilisticexpialidocious has {0}\"+\"\\n\", length1);\n",
    "\n",
    "string word2 = \"Honorificabilitudinitatibus\";\n",
    "length2 = word2.Length;\n",
    "Console.WriteLine(\"Honorificabilitudinitatibus has {0}\"+\"\\n\", length2);\n",
    "\n",
    "string word3 = \"Bababadalgharaghtakamminarronnkonn\";\n",
    "length3 = word3.Length;\n",
    "Console.WriteLine(\"Honorificabilitudinitatibus has {0}\"+\"\\n\", length3);\n"
   ]
  },
  {
   "cell_type": "markdown",
   "metadata": {},
   "source": [
    "Question 2.4) Which composer comes first in the dictionary: 'Berlioz', 'Borodin', 'Brian',\n",
    "'Bartok', 'Bellini', 'Buxtehude', 'Bernstein'. Which one comes last?\n",
    "\n",
    "**Answer**: According to the ascending order shown in the output, Bartok comes first and Buxtehude comes last\n"
   ]
  },
  {
   "cell_type": "code",
   "execution_count": 9,
   "metadata": {},
   "outputs": [
    {
     "name": "stdout",
     "output_type": "stream",
     "text": [
      "List in ascending order: \n",
      "   Bartok   Bellini   Berlioz   Bernstein   Borodin   Brian   Buxtehude"
     ]
    }
   ],
   "source": [
    "String[] composers = {\"Berlioz\", \"Borodin\", \"Brian\", \"Bartok\", \"Bellini\",\"Buxtehude\", \"Bernstein\"};\n",
    "var nameList = new List<String>();\n",
    "\n",
    "//Sort the names from string in ascending order.\n",
    "nameList.AddRange(composers);\n",
    "nameList.Sort();\n",
    "\n",
    "//Command to print out the composer names in the string list.\n",
    "Console.WriteLine(\"List in ascending order: \");\n",
    "foreach (var name in nameList)\n",
    "   Console.Write(\"   {0}\", name);\n",
    "\n"
   ]
  },
  {
   "cell_type": "markdown",
   "metadata": {},
   "source": [
    "# Question 3\n",
    "\n",
    "Implement function triangleArea(a,b,c) that takes as input the lengths of the 3\n",
    "sides of a triangle and returns the area of the triangle. By Heron's formula, the area\n",
    "of a triangle with side lengths a, b, and c \n",
    "is:\n",
    ">s(s - a)(s -b)(s -c), where\n",
    "\n",
    "s = (a+b+c)/2.\n",
    ">triangleArea(2,2,2) = 1.7320508075688772\n",
    "\n",
    "**The function Math.Sqrt was from this reference: https://www.tutorialspoint.com/math-sqrt-method-in-chash#:~:text=Sqrt()%20Method%20in%20C%23,-CsharpServer%20Side&text=The%20Math.,root%20of%20the%20specified%20number.\n"
   ]
  },
  {
   "cell_type": "code",
   "execution_count": 8,
   "metadata": {},
   "outputs": [
    {
     "name": "stdout",
     "output_type": "stream",
     "text": [
      "The triangle area is: 1.7320508075688772\r\n"
     ]
    }
   ],
   "source": [
    "double a, b, c, s, area;\n",
    "\n",
    "// Since Jupyter doesn't read the input from user, \n",
    "// it was considered as values the ones provided by\n",
    "// the example.\n",
    "\n",
    "a=2; \n",
    "b=2;\n",
    "c=2;\n",
    "\n",
    "//function to calculate Heron's formula to get area.\n",
    "s = (a + b + c)/2.0;\n",
    "area = Math.Sqrt(s*((s-a)*(s-b)*(s-c)));\n",
    "\n",
    "//print out the result\n",
    "Console.WriteLine(\"The triangle area is: {0}\", area)\n"
   ]
  },
  {
   "cell_type": "markdown",
   "metadata": {},
   "source": [
    "# Question 4 \n",
    "Write a program in C# Sharp to separate odd and even integers in separate arrays.\n",
    "Go to the editor\n",
    "Test Data :\n",
    "Input the number of elements to be stored in the array :5\n",
    "Input 5 elements in the array :\n",
    "element - 0 : 25\n",
    "element - 1 : 47\n",
    "element - 2 : 42\n",
    "element - 3 : 56\n",
    "element - 4 : 32\n",
    "Expected Output:\n",
    "\n",
    "The Even elements are:\n",
    "42 56 32\n",
    "\n",
    "The Odd elements are :\n",
    "25 47\n",
    "\n",
    "** I had to refer to the site (https://www.tutorialspoint.com/Chash-program-to-split-the-Even-and-Odd-integers-into-different-arrays)\n",
    "to solve this exercise."
   ]
  },
  {
   "cell_type": "code",
   "execution_count": 7,
   "metadata": {},
   "outputs": [
    {
     "name": "stdout",
     "output_type": "stream",
     "text": [
      "The even elements are:\n",
      "42\n",
      "56\n",
      "32\n",
      "The odd elements are:\n",
      "25\n",
      "47\n"
     ]
    }
   ],
   "source": [
    " int[] list = new int[] { 25, 47, 42, 56, 32 };\n",
    " \n",
    "//Creation of the new arrays with 5 elements each:\n",
    "    int[] newlist1 = new int[5];\n",
    "    int[] newlist2 = new int[5];\n",
    "    int i, j = 0, k = 0;\n",
    "\n",
    "//Condition to consider if the number is odd or even considering\n",
    "//the remainder of the number when divided by 2.\n",
    "\n",
    "    for (i = 0; i < 5; i++)\n",
    "        if (list[i] % 2 == 0)\n",
    "            {\n",
    "            newlist1[j] = list[i];\n",
    "            j++;\n",
    "            }\n",
    "        else\n",
    "            {\n",
    "            newlist2[k] = list[i];\n",
    "            k++;\n",
    "            }\n",
    "//print out the results\n",
    "    \n",
    "     Console.WriteLine(\"The even elements are:\");\n",
    "     for (i = 0; i < j; i++) \n",
    "         Console.WriteLine(newlist1[i]);\n",
    "\n",
    "     Console.WriteLine(\"The odd elements are:\");\n",
    "     for (i = 0; i < k; i++) \n",
    "         Console.WriteLine(newlist2[i]);"
   ]
  },
  {
   "cell_type": "markdown",
   "metadata": {},
   "source": [
    "# Question 5 \n",
    "\n",
    "a. Write a function inside(x,y,x1,y1,x2,y2) that returns True or False depending on whether the point (x,y) lies in the rectangle with lower left corner (x1,y1) and upper right corner (x2,y2).\n",
    "\n",
    "inside(1,1,0,0,2,3)\n",
    "True\n",
    "\n",
    "inside(-1,-1,0,0,2,3)\n",
    "False\n",
    "\n",
    "b. Use function inside() from part a. to write an expression that tests whether the point (1,1) lies in both of the following rectangles: one with lower left corner (0.3, 0.5) and upper right corner (1.1, 0.7) and the other with lower left corner (0.5, 0.2) and upper right corner (1.1, 2)."
   ]
  },
  {
   "cell_type": "code",
   "execution_count": 70,
   "metadata": {},
   "outputs": [],
   "source": [
    "\n",
    "                      \n"
   ]
  }
 ],
 "metadata": {
  "kernelspec": {
   "display_name": ".NET (C#)",
   "language": "C#",
   "name": ".net-csharp"
  },
  "language_info": {
   "file_extension": ".cs",
   "mimetype": "text/x-csharp",
   "name": "C#",
   "pygments_lexer": "csharp",
   "version": "8.0"
  }
 },
 "nbformat": 4,
 "nbformat_minor": 4
}
