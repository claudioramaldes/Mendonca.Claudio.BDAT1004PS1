{
 "cells": [
  {
   "cell_type": "markdown",
   "metadata": {},
   "source": [
    "# Question 6 Python \n",
    "\n",
    "You can turn a word into pig-Latin using the following two rules (simplified):\n",
    "• If the word starts with a consonant, move that letter to the end and append\n",
    "'ay'. For example, 'happy' becomes 'appyhay' and 'pencil' becomes 'encilpay'.\n",
    "• If the word starts with a vowel, simply append 'way' to the end of the word.\n",
    "For example, 'enter' becomes 'enterway' and 'other' becomes 'otherway' . For\n",
    "our purposes, there are 5 vowels: a, e, i, o, u (so we count y as a consonant).\n",
    "Write a function pig() that takes a word (i.e., a string) as input and returns its pigLatin form. Your function should still work if the input word contains upper case\n",
    "characters. Your output should always be lower case however.\n",
    "\n",
    "pig('happy')\n",
    ">'appyhay'\n",
    "\n",
    "pig('Enter')\n",
    ">'enterway' "
   ]
  },
  {
   "cell_type": "code",
   "execution_count": 53,
   "metadata": {},
   "outputs": [
    {
     "name": "stdout",
     "output_type": "stream",
     "text": [
      "Type the word:\n",
      "ola\n",
      "olaway\n"
     ]
    }
   ],
   "source": [
    "vowels = ['a','e','i','o','u']\n",
    "\n",
    "word = input(\"Type the word:\\n\")\n",
    "word = word.lower()\n",
    "firstletter = word[0]\n",
    "\n",
    "if firstletter in vowels: \n",
    "    print(word + \"way\")   \n",
    "else: \n",
    "    print(word[1:] + firstletter + \"ay\")\n",
    "    "
   ]
  },
  {
   "cell_type": "markdown",
   "metadata": {},
   "source": [
    "# Question 7 \n",
    "\n",
    "File bloodtype1.txt records blood-types of patients (A, B, AB, O or OO) at a clinic.\n",
    "Write a function bldcount() that reads the file with name name and reports (i.e.,\n",
    "prints) how many patients there are in each bloodtype.\n",
    "\n",
    "**I referenced this link (https://www.geeksforgeeks.org/python-count-occurrences-of-each-word-in-given-text-file-using-dictionary/) to understand how to count the repeated words from the text file."
   ]
  },
  {
   "cell_type": "code",
   "execution_count": 67,
   "metadata": {},
   "outputs": [
    {
     "name": "stdout",
     "output_type": "stream",
     "text": [
      "['AB', 'AB', 'B', 'O', 'A', 'A', 'AB', 'O', 'AB', 'A', 'O', 'O', 'A', 'A', 'A', 'O', 'O', 'O', 'AB', 'O', 'A', 'A', 'A', 'A', 'A', 'AB', 'AB', 'A', 'AB', 'O', 'AB', 'O', 'A', 'O', 'O', 'O', 'AB', 'O', 'AB', 'AB', 'AB', 'A', 'A', 'O']\n",
      "{'AB': 13, 'B': 1, 'O': 15, 'A': 15}\n"
     ]
    }
   ],
   "source": [
    "bloodtypes = open('C:\\\\Users\\\\claud\\\\BIG DATA COURSE\\\\06 Data Programming\\\\[ASSIGNMENT] Assignment 01\\\\bloodtypes.txt')\n",
    "\n",
    "bldcount = dict()\n",
    "\n",
    "for lin in bloodtypes:\n",
    "    words = lin.split()\n",
    "    print(words);\n",
    "\n",
    "    for x in words:\n",
    "        if x in bldcount:\n",
    "            bldcount[x] = bldcount[x] + 1\n",
    "        else:\n",
    "            bldcount[x] = 1\n",
    "\n",
    "print(bldcount)\n"
   ]
  },
  {
   "cell_type": "markdown",
   "metadata": {},
   "source": [
    "# Question 8\n",
    "Write a function curconv() that takes as input:\n",
    "1. a currency represented using a string (e.g., 'JPY' for the Japanese Yen or\n",
    "'EUR' for the Euro)\n",
    "2. an amount\n",
    "and then converts and returns the amount in US dollars.\n",
    "\n",
    "curconv('EUR', 100)\n",
    ">122.96544\n",
    "\n",
    "curconv('JPY', 100)\n",
    ">1.241401\n",
    "\n",
    "The currency rates you will need are stored in file currencies.txt."
   ]
  },
  {
   "cell_type": "code",
   "execution_count": 39,
   "metadata": {},
   "outputs": [
    {
     "name": "stdout",
     "output_type": "stream",
     "text": [
      "What currency you want to convert?eur\n",
      "The currency selected is EUR\n",
      "How much you want to convert?\n",
      "120\n",
      "The amount converted in US dollar is $ 147.558528\n"
     ]
    }
   ],
   "source": [
    "currencylist = {\"DKK\": 0.1651442, \"EUR\": 1.2296544, \"GBP\": 1.5550989, \"HKD\": 0.1270207, \"INR\": 0.0177643, \"JPY\": 0.01241401, \"MXN\": 0.0751848, \"NOK\": 0.1677063, \"NZD\": 0.8003591,  \"PHP\": 0.0233234, \"SEK\": 0.148269, \"SGD\": 0.788871, \"THB\": 0.0313789 }\n",
    "\n",
    "keycurrency = input(\"What currency you want to convert?\")\n",
    "keycurrency = keycurrency.upper()\n",
    "\n",
    "if keycurrency in currencylist:\n",
    "    print('The currency selected is', keycurrency)\n",
    "else:\n",
    "    print('The currency is not valid')\n",
    "\n",
    "keyamount = input(\"How much you want to convert?\\n\")\n",
    "\n",
    "value = (currencylist[keycurrency])\n",
    "\n",
    "cueconv = (value * int(keyamount));\n",
    "\n",
    "print(\"The amount converted in US dollar is $\", cueconv)"
   ]
  },
  {
   "cell_type": "markdown",
   "metadata": {},
   "source": [
    "# Question 9\n",
    "\n",
    "Each of the following will cause an exception (an error). Identify what type of\n",
    "exception each will cause."
   ]
  },
  {
   "cell_type": "markdown",
   "metadata": {},
   "source": [
    "1. Trying to add incompatible variables, as in\n",
    "adding 6 + ‘a’\n",
    "\n",
    "2. Referring to the 12th item of a list that has only 10\n",
    "items\n",
    "\n",
    "3. Using a value that is out of range for a function’s\n",
    "input, such as calling math.sqrt(-1.0)\n",
    "\n",
    "4. Using an undeclared variable, such as print(x)\n",
    "when x has not been defined\n",
    "\n",
    "5. Trying to open a file that does not exist, such as\n",
    "mistyping the file name or looking in the wrong\n",
    "directory"
   ]
  },
  {
   "cell_type": "markdown",
   "metadata": {},
   "source": [
    "ANSWERS:\n",
    "1. TypeError\n",
    "2. IndexError\n",
    "3. ValueError\n",
    "4. NameError\n",
    "5. FileNotFoundError\n",
    "        "
   ]
  },
  {
   "cell_type": "markdown",
   "metadata": {},
   "source": [
    "# Question 10 \n",
    "\n",
    "Encryption is the process of hiding the meaning of a text by substituting letters in the message with other letters, according to some system. If the process is successful, no one but the intended recipient can understand the encrypted message. Cryptanalysis refers to attempts to undo the encryption, even if some details of the encryption are unknown (for example, if an encrypted message has been intercepted). The first step of cryptanalysis is often to build up a table of letter frequencies in the encrypted text. Assume that the string letters is already defined as 'abcdefghijklmnopqrstuvwxyz'. \n",
    "\n",
    "Write a function called frequencies() that takes a string as its only parameter, and returns a list of integers, showing the number of times each character appears in the text. Your function may ignore any characters that are not in letters.\n",
    "\n",
    "frequencies ('The quick red fox got bored and went home.')\n",
    "\n",
    "[1, 1, 1, 3, 5, 1, 1, 2, 1, 0, 1, 0, 1, 2, 4, 0, 1, 2, 0, 2, 1, 0, 1, 1, 0, 0]\n",
    "\n",
    "frequencies('apple')\n",
    "\n",
    "**Answer** I followed this tutorial (https://www.tutorialspoint.com/count-occurrences-of-a-character-in-string-in-python) to get the idea how to count the number of characters in the text but I wasn't able to print out as the example (only numbers). I have the idea that I should convert the counter to string and the use a function that will present only the numbers from the string, unfortunatelly I wasn't able to make it work even following some other examples at the internet. "
   ]
  },
  {
   "cell_type": "code",
   "execution_count": 68,
   "metadata": {},
   "outputs": [
    {
     "name": "stdout",
     "output_type": "stream",
     "text": [
      "Write the text:\n",
      "apple\n",
      "Counter({'p': 2, 'a': 1, 'l': 1, 'e': 1})\n"
     ]
    }
   ],
   "source": [
    "from collections import Counter\n",
    "\n",
    "text = input('Write the text:\\n');\n",
    "counter = Counter(text)\n",
    "\n",
    "str(dict(counter));\n",
    "print(counter)\n"
   ]
  }
 ],
 "metadata": {
  "kernelspec": {
   "display_name": "Python 3",
   "language": "python",
   "name": "python3"
  },
  "language_info": {
   "codemirror_mode": {
    "name": "ipython",
    "version": 3
   },
   "file_extension": ".py",
   "mimetype": "text/x-python",
   "name": "python",
   "nbconvert_exporter": "python",
   "pygments_lexer": "ipython3",
   "version": "3.8.5"
  }
 },
 "nbformat": 4,
 "nbformat_minor": 4
}
